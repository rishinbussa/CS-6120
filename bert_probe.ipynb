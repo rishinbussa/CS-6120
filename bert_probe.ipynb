{
  "cells": [
    {
      "cell_type": "markdown",
      "metadata": {
        "id": "view-in-github",
        "colab_type": "text"
      },
      "source": [
        "<a href=\"https://colab.research.google.com/github/rishinbussa/CS-6120/blob/main/bert_probe.ipynb\" target=\"_parent\"><img src=\"https://colab.research.google.com/assets/colab-badge.svg\" alt=\"Open In Colab\"/></a>"
      ]
    },
    {
      "cell_type": "markdown",
      "source": [
        "# Probling Language Model Representations\n",
        "\n",
        "In this notebook, you will explore how much information language models have about linguistic structure even when they have not been explicitly trained to predict it. You will use the encoder language model BERT.\n",
        "\n",
        "This is a kind of experiment called &ldquo;probing&rdquo;, where we use internal representations from a language model to predict certain information we have but the language model does not. In particular, we will use a named entity recognition (NER) task, `BIO` tags on each word for the classes person, location, organization, and miscellaneous. The base BERT model did not see any of these labels in training—although BERT has often been fine-tuned on token labeling tasks. For more on token classification for named entity recognition, and for some of the code we use here, see [this huggingface tutorial](https://huggingface.co/docs/transformers/en/tasks/token_classification).\n",
        "\n",
        "Work through the notebook and complete the cells marked TODO to set up and run these experiments.\n",
        "\n",
        "We start by installing the huggingface `transformers` and related libraries."
      ],
      "metadata": {
        "id": "Oqutyn9tAxNn"
      }
    },
    {
      "cell_type": "code",
      "execution_count": 27,
      "metadata": {
        "id": "eS4RG2THt6r_",
        "colab": {
          "base_uri": "https://localhost:8080/",
          "height": 0
        },
        "outputId": "a3c0cc9d-651e-4f2f-81ed-991c824f6681"
      },
      "outputs": [
        {
          "output_type": "stream",
          "name": "stdout",
          "text": [
            "Requirement already satisfied: transformers in /usr/local/lib/python3.12/dist-packages (4.57.0)\n",
            "Requirement already satisfied: datasets in /usr/local/lib/python3.12/dist-packages (4.0.0)\n",
            "Requirement already satisfied: evaluate in /usr/local/lib/python3.12/dist-packages (0.4.6)\n",
            "Requirement already satisfied: seqeval in /usr/local/lib/python3.12/dist-packages (1.2.2)\n",
            "Requirement already satisfied: filelock in /usr/local/lib/python3.12/dist-packages (from transformers) (3.20.0)\n",
            "Requirement already satisfied: huggingface-hub<1.0,>=0.34.0 in /usr/local/lib/python3.12/dist-packages (from transformers) (0.35.3)\n",
            "Requirement already satisfied: numpy>=1.17 in /usr/local/lib/python3.12/dist-packages (from transformers) (2.0.2)\n",
            "Requirement already satisfied: packaging>=20.0 in /usr/local/lib/python3.12/dist-packages (from transformers) (25.0)\n",
            "Requirement already satisfied: pyyaml>=5.1 in /usr/local/lib/python3.12/dist-packages (from transformers) (6.0.3)\n",
            "Requirement already satisfied: regex!=2019.12.17 in /usr/local/lib/python3.12/dist-packages (from transformers) (2024.11.6)\n",
            "Requirement already satisfied: requests in /usr/local/lib/python3.12/dist-packages (from transformers) (2.32.4)\n",
            "Requirement already satisfied: tokenizers<=0.23.0,>=0.22.0 in /usr/local/lib/python3.12/dist-packages (from transformers) (0.22.1)\n",
            "Requirement already satisfied: safetensors>=0.4.3 in /usr/local/lib/python3.12/dist-packages (from transformers) (0.6.2)\n",
            "Requirement already satisfied: tqdm>=4.27 in /usr/local/lib/python3.12/dist-packages (from transformers) (4.67.1)\n",
            "Requirement already satisfied: pyarrow>=15.0.0 in /usr/local/lib/python3.12/dist-packages (from datasets) (18.1.0)\n",
            "Requirement already satisfied: dill<0.3.9,>=0.3.0 in /usr/local/lib/python3.12/dist-packages (from datasets) (0.3.8)\n",
            "Requirement already satisfied: pandas in /usr/local/lib/python3.12/dist-packages (from datasets) (2.2.2)\n",
            "Requirement already satisfied: xxhash in /usr/local/lib/python3.12/dist-packages (from datasets) (3.6.0)\n",
            "Requirement already satisfied: multiprocess<0.70.17 in /usr/local/lib/python3.12/dist-packages (from datasets) (0.70.16)\n",
            "Requirement already satisfied: fsspec<=2025.3.0,>=2023.1.0 in /usr/local/lib/python3.12/dist-packages (from fsspec[http]<=2025.3.0,>=2023.1.0->datasets) (2025.3.0)\n",
            "Requirement already satisfied: scikit-learn>=0.21.3 in /usr/local/lib/python3.12/dist-packages (from seqeval) (1.6.1)\n",
            "Requirement already satisfied: aiohttp!=4.0.0a0,!=4.0.0a1 in /usr/local/lib/python3.12/dist-packages (from fsspec[http]<=2025.3.0,>=2023.1.0->datasets) (3.13.0)\n",
            "Requirement already satisfied: typing-extensions>=3.7.4.3 in /usr/local/lib/python3.12/dist-packages (from huggingface-hub<1.0,>=0.34.0->transformers) (4.15.0)\n",
            "Requirement already satisfied: hf-xet<2.0.0,>=1.1.3 in /usr/local/lib/python3.12/dist-packages (from huggingface-hub<1.0,>=0.34.0->transformers) (1.1.10)\n",
            "Requirement already satisfied: charset_normalizer<4,>=2 in /usr/local/lib/python3.12/dist-packages (from requests->transformers) (3.4.3)\n",
            "Requirement already satisfied: idna<4,>=2.5 in /usr/local/lib/python3.12/dist-packages (from requests->transformers) (3.10)\n",
            "Requirement already satisfied: urllib3<3,>=1.21.1 in /usr/local/lib/python3.12/dist-packages (from requests->transformers) (2.5.0)\n",
            "Requirement already satisfied: certifi>=2017.4.17 in /usr/local/lib/python3.12/dist-packages (from requests->transformers) (2025.10.5)\n",
            "Requirement already satisfied: scipy>=1.6.0 in /usr/local/lib/python3.12/dist-packages (from scikit-learn>=0.21.3->seqeval) (1.16.2)\n",
            "Requirement already satisfied: joblib>=1.2.0 in /usr/local/lib/python3.12/dist-packages (from scikit-learn>=0.21.3->seqeval) (1.5.2)\n",
            "Requirement already satisfied: threadpoolctl>=3.1.0 in /usr/local/lib/python3.12/dist-packages (from scikit-learn>=0.21.3->seqeval) (3.6.0)\n",
            "Requirement already satisfied: python-dateutil>=2.8.2 in /usr/local/lib/python3.12/dist-packages (from pandas->datasets) (2.9.0.post0)\n",
            "Requirement already satisfied: pytz>=2020.1 in /usr/local/lib/python3.12/dist-packages (from pandas->datasets) (2025.2)\n",
            "Requirement already satisfied: tzdata>=2022.7 in /usr/local/lib/python3.12/dist-packages (from pandas->datasets) (2025.2)\n",
            "Requirement already satisfied: aiohappyeyeballs>=2.5.0 in /usr/local/lib/python3.12/dist-packages (from aiohttp!=4.0.0a0,!=4.0.0a1->fsspec[http]<=2025.3.0,>=2023.1.0->datasets) (2.6.1)\n",
            "Requirement already satisfied: aiosignal>=1.4.0 in /usr/local/lib/python3.12/dist-packages (from aiohttp!=4.0.0a0,!=4.0.0a1->fsspec[http]<=2025.3.0,>=2023.1.0->datasets) (1.4.0)\n",
            "Requirement already satisfied: attrs>=17.3.0 in /usr/local/lib/python3.12/dist-packages (from aiohttp!=4.0.0a0,!=4.0.0a1->fsspec[http]<=2025.3.0,>=2023.1.0->datasets) (25.4.0)\n",
            "Requirement already satisfied: frozenlist>=1.1.1 in /usr/local/lib/python3.12/dist-packages (from aiohttp!=4.0.0a0,!=4.0.0a1->fsspec[http]<=2025.3.0,>=2023.1.0->datasets) (1.8.0)\n",
            "Requirement already satisfied: multidict<7.0,>=4.5 in /usr/local/lib/python3.12/dist-packages (from aiohttp!=4.0.0a0,!=4.0.0a1->fsspec[http]<=2025.3.0,>=2023.1.0->datasets) (6.7.0)\n",
            "Requirement already satisfied: propcache>=0.2.0 in /usr/local/lib/python3.12/dist-packages (from aiohttp!=4.0.0a0,!=4.0.0a1->fsspec[http]<=2025.3.0,>=2023.1.0->datasets) (0.3.2)\n",
            "Requirement already satisfied: yarl<2.0,>=1.17.0 in /usr/local/lib/python3.12/dist-packages (from aiohttp!=4.0.0a0,!=4.0.0a1->fsspec[http]<=2025.3.0,>=2023.1.0->datasets) (1.22.0)\n",
            "Requirement already satisfied: six>=1.5 in /usr/local/lib/python3.12/dist-packages (from python-dateutil>=2.8.2->pandas->datasets) (1.17.0)\n"
          ]
        }
      ],
      "source": [
        "!pip install transformers datasets evaluate seqeval"
      ]
    },
    {
      "cell_type": "markdown",
      "source": [
        "In case you want them later, we'll load the sklearn functions you used for training logistic regression in assignment 2."
      ],
      "metadata": {
        "id": "dXUDVxhsEsgp"
      }
    },
    {
      "cell_type": "code",
      "source": [
        "from sklearn.linear_model import LogisticRegression\n",
        "from sklearn.model_selection import cross_validate, LeaveOneOut, KFold\n",
        "import numpy as np"
      ],
      "metadata": {
        "id": "hayfqZB_CQXN"
      },
      "execution_count": 28,
      "outputs": []
    },
    {
      "cell_type": "markdown",
      "source": [
        "Then, we'll use the huggingface `datasets` library to download the CoNLL (Conference on Natural Language Learning) 2003 data for named-entity recognition."
      ],
      "metadata": {
        "id": "vR0WURzzE6aS"
      }
    },
    {
      "cell_type": "code",
      "execution_count": 29,
      "metadata": {
        "id": "ySwBDWgry94w"
      },
      "outputs": [],
      "source": [
        "from datasets import load_dataset\n",
        "conll2003 = load_dataset(\"hgissbkh/conll2003-en\")"
      ]
    },
    {
      "cell_type": "markdown",
      "source": [
        "To keep things simple, we'll work with a sample of 1000 sentences."
      ],
      "metadata": {
        "id": "RDGXsyMdFKTc"
      }
    },
    {
      "cell_type": "code",
      "execution_count": 30,
      "metadata": {
        "id": "kDLq5VnHud0y"
      },
      "outputs": [],
      "source": [
        "sample = conll2003['train'].select(range(1000))"
      ]
    },
    {
      "cell_type": "markdown",
      "source": [
        "Each record contains a list of word tokens and a list of NER labels. For efficiency, the labels have been turned into integers, which makes them hard to interpret."
      ],
      "metadata": {
        "id": "RucYFBjMFQkd"
      }
    },
    {
      "cell_type": "code",
      "execution_count": 31,
      "metadata": {
        "id": "mE8Y4d5cvrJG",
        "colab": {
          "base_uri": "https://localhost:8080/",
          "height": 0
        },
        "outputId": "845ab366-a665-40ac-ee9c-bf1720c50b78"
      },
      "outputs": [
        {
          "output_type": "execute_result",
          "data": {
            "text/plain": [
              "{'words': ['EU',\n",
              "  'rejects',\n",
              "  'German',\n",
              "  'call',\n",
              "  'to',\n",
              "  'boycott',\n",
              "  'British',\n",
              "  'lamb',\n",
              "  '.'],\n",
              " 'ner': [4, 0, 8, 0, 0, 0, 8, 0, 0]}"
            ]
          },
          "metadata": {},
          "execution_count": 31
        }
      ],
      "source": [
        "sample[0]"
      ]
    },
    {
      "cell_type": "markdown",
      "source": [
        "Fortunately, the dataset object also contains information to map these integers back to readable strings. We can see tags such as `B-PER` (the beginning token of a personal name), `I-PER` (the following tokens inside a personal name, if any), and `O` (a token outside any named entities). We create two dictionaries `id2label` and `label2id` to make mapping between integers and labels easier."
      ],
      "metadata": {
        "id": "yrXioS9_F4XT"
      }
    },
    {
      "cell_type": "code",
      "execution_count": 32,
      "metadata": {
        "id": "4un7cWKOujei",
        "colab": {
          "base_uri": "https://localhost:8080/",
          "height": 0
        },
        "outputId": "8749c23b-ead4-45fb-9ace-9465ffbe8930"
      },
      "outputs": [
        {
          "output_type": "stream",
          "name": "stdout",
          "text": [
            "['O', 'B-PER', 'I-PER', 'B-ORG', 'I-ORG', 'B-LOC', 'I-LOC', 'B-MISC', 'I-MISC']\n",
            "{0: 'O', 1: 'B-PER', 2: 'I-PER', 3: 'B-ORG', 4: 'I-ORG', 5: 'B-LOC', 6: 'I-LOC', 7: 'B-MISC', 8: 'I-MISC'}\n"
          ]
        }
      ],
      "source": [
        "labels = sample.features['ner'].feature.names\n",
        "id2label = {i: label for i, label in enumerate(labels)}\n",
        "label2id = {label: i for i, label in enumerate(labels)}\n",
        "print(labels)\n",
        "print(id2label)"
      ]
    },
    {
      "cell_type": "markdown",
      "source": [
        "For a language model to interpret our data properly, we need to tokenize it in the same way as its training data. We download the tokenizer for the `bert-base-cased` model from huggingface."
      ],
      "metadata": {
        "id": "74oOTKJjG1lu"
      }
    },
    {
      "cell_type": "code",
      "execution_count": 33,
      "metadata": {
        "id": "RAM3kiN0Ir_0"
      },
      "outputs": [],
      "source": [
        "from transformers import AutoTokenizer\n",
        "\n",
        "tokenizer = AutoTokenizer.from_pretrained(\"bert-base-cased\")"
      ]
    },
    {
      "cell_type": "markdown",
      "source": [
        "Let's see what happens when we run the tokenizer on a single sentence. We tell it that our sentence has already been split into words, in this case by the creators of the CoNLL 2003 NER dataset. BERT, like many language models, used **subword tokenization** to keep the size of its vocabulary manageable. The tokenizer turns $n$ words into $m \\ge n$ tokens, represented as a list of integer token identifiers. We use the method `convert_ids_to_tokens` to turn these integers back into a string representation."
      ],
      "metadata": {
        "id": "ZDLvbjoQPodP"
      }
    },
    {
      "cell_type": "code",
      "execution_count": 34,
      "metadata": {
        "id": "HP5X7k98I3D8",
        "colab": {
          "base_uri": "https://localhost:8080/",
          "height": 0
        },
        "outputId": "712a2e46-1619-48ad-cc3b-be9c191dfac3"
      },
      "outputs": [
        {
          "output_type": "execute_result",
          "data": {
            "text/plain": [
              "['[CLS]',\n",
              " 'Spanish',\n",
              " 'Farm',\n",
              " 'Minister',\n",
              " 'Loyola',\n",
              " 'de',\n",
              " 'Pa',\n",
              " '##la',\n",
              " '##cio',\n",
              " 'had',\n",
              " 'earlier',\n",
              " 'accused',\n",
              " 'Fi',\n",
              " '##sch',\n",
              " '##ler',\n",
              " 'at',\n",
              " 'an',\n",
              " 'EU',\n",
              " 'farm',\n",
              " 'ministers',\n",
              " \"'\",\n",
              " 'meeting',\n",
              " 'of',\n",
              " 'causing',\n",
              " 'un',\n",
              " '##ju',\n",
              " '##st',\n",
              " '##ified',\n",
              " 'alarm',\n",
              " 'through',\n",
              " '\"',\n",
              " 'dangerous',\n",
              " 'general',\n",
              " '##isation',\n",
              " '.',\n",
              " '\"',\n",
              " '[SEP]']"
            ]
          },
          "metadata": {},
          "execution_count": 34
        }
      ],
      "source": [
        "example = sample[10]\n",
        "tokenized_input = tokenizer(example['words'], is_split_into_words=True)\n",
        "tokens = tokenizer.convert_ids_to_tokens(tokenized_input['input_ids'])\n",
        "tokens"
      ]
    },
    {
      "cell_type": "markdown",
      "source": [
        "Notice how the name `Palacio` has been split into three subword tokens: `Pa`, `##la`, and `##cio`. The prepended `##` indicates that this token is _not_ the start of a word. But the NER annotations we have are at the word level. We thus need to do some work to map the sequence of NER labels, linked to words, to the usually longer sequence of subword tokens. This is a common task when you have data that wasn't created for a particular language model's classification. We adapt a function from the huggingface tutorial to map the NER labels onto the subword tokens. We assign the label -100 to tokens not at the beginning of a word, as well as to the sentinel `[CLS]` and `[SEP]` tokens at the beginning and end of the sentence."
      ],
      "metadata": {
        "id": "ywXS7MT3Xi7I"
      }
    },
    {
      "cell_type": "code",
      "execution_count": 35,
      "metadata": {
        "id": "c3k7NQZsJvxj"
      },
      "outputs": [],
      "source": [
        "def tokenize_and_align_labels(examples):\n",
        "    tokenized_inputs = tokenizer(examples['words'], truncation=True, is_split_into_words=True)\n",
        "\n",
        "    labels = []\n",
        "    for i, label in enumerate(examples['ner']):\n",
        "        word_ids = tokenized_inputs.word_ids(batch_index=i)  # Map tokens to their respective word.\n",
        "        previous_word_idx = None\n",
        "        label_ids = []\n",
        "        for word_idx in word_ids:  # Set the special tokens to -100.\n",
        "            if word_idx is None:\n",
        "                label_ids.append(-100)\n",
        "            elif word_idx != previous_word_idx:  # Only label the first token of a given word.\n",
        "                label_ids.append(label[word_idx])\n",
        "            else:\n",
        "                label_ids.append(-100)\n",
        "            previous_word_idx = word_idx\n",
        "        labels.append(label_ids)\n",
        "\n",
        "    tokenized_inputs['labels'] = labels\n",
        "    return tokenized_inputs"
      ]
    },
    {
      "cell_type": "markdown",
      "source": [
        "We apply this function to the whole dataset."
      ],
      "metadata": {
        "id": "fvZMEdiVZZQa"
      }
    },
    {
      "cell_type": "code",
      "execution_count": 37,
      "metadata": {
        "id": "31LYPwDBJ_mf"
      },
      "outputs": [],
      "source": [
        "tokenized_sample = sample.map(tokenize_and_align_labels, batched=True)\n",
        "tokenized_sample.set_format(type='torch', columns=['input_ids', 'token_type_ids', 'attention_mask', 'labels'])"
      ]
    },
    {
      "cell_type": "markdown",
      "source": [
        "Each record in the tokenized sample now has numeric IDs for each token, an attention mask (always 1 in this encoding task), and token-level labels."
      ],
      "metadata": {
        "id": "eNRGHrodeUU5"
      }
    },
    {
      "cell_type": "code",
      "source": [
        "tokenized_sample[0]"
      ],
      "metadata": {
        "id": "MeQTGdLTeKJ2",
        "colab": {
          "base_uri": "https://localhost:8080/",
          "height": 0
        },
        "outputId": "008b2134-9169-42d4-9595-66abbda07b4a"
      },
      "execution_count": 38,
      "outputs": [
        {
          "output_type": "execute_result",
          "data": {
            "text/plain": [
              "{'input_ids': tensor([  101,  7270, 22961,  1528,  1840,  1106, 21423,  1418,  2495, 12913,\n",
              "           119,   102]),\n",
              " 'token_type_ids': tensor([0, 0, 0, 0, 0, 0, 0, 0, 0, 0, 0, 0]),\n",
              " 'attention_mask': tensor([1, 1, 1, 1, 1, 1, 1, 1, 1, 1, 1, 1]),\n",
              " 'labels': tensor([-100,    4,    0,    8,    0,    0,    0,    8,    0, -100,    0, -100])}"
            ]
          },
          "metadata": {},
          "execution_count": 38
        }
      ]
    },
    {
      "cell_type": "markdown",
      "source": [
        "Now let's load the BERT model itself. We use the version that was trained on data that hadn't been case-folded, since upper-case words might be useful features for NER in English."
      ],
      "metadata": {
        "id": "AA2YL1y5ZpY4"
      }
    },
    {
      "cell_type": "code",
      "execution_count": 39,
      "metadata": {
        "id": "P4pyKmWmOQGm"
      },
      "outputs": [],
      "source": [
        "from transformers import BertModel\n",
        "\n",
        "model = BertModel.from_pretrained(\"bert-base-cased\", output_hidden_states=True)"
      ]
    },
    {
      "cell_type": "markdown",
      "source": [
        "We run inference on the first sentence in our sample, passing the model the list of token identifiers (coerced into a tensor with a single batch dimension) and the attention mask, which is all 1s for this simple encoding task."
      ],
      "metadata": {
        "id": "SLKHgAlKbEYJ"
      }
    },
    {
      "cell_type": "code",
      "execution_count": 40,
      "metadata": {
        "id": "dLEefcWKPQsJ"
      },
      "outputs": [],
      "source": [
        "import torch\n",
        "with torch.no_grad():\n",
        "  outputs = model(input_ids=tokenized_sample[0]['input_ids'].unsqueeze(0), attention_mask=tokenized_sample[0]['attention_mask'].unsqueeze(0))\n",
        "  hidden_states = outputs.hidden_states"
      ]
    },
    {
      "cell_type": "markdown",
      "source": [
        "The `hidden_states` object we just created is a tuple with 13 items, one for each layer of the BERT model. The initial token embedding is layer 0 and the output is layer 12. Each layer contains embeddings for each token&mdash;here, there are 12&mdash;each of which is a vector of length 768."
      ],
      "metadata": {
        "id": "EAORN7nWbomy"
      }
    },
    {
      "cell_type": "code",
      "source": [
        "print(len(hidden_states))\n",
        "print(hidden_states[0].shape)"
      ],
      "metadata": {
        "id": "fByOPUHA6kQA",
        "colab": {
          "base_uri": "https://localhost:8080/",
          "height": 0
        },
        "outputId": "058a87df-9af8-427f-e602-d6f01639c44c"
      },
      "execution_count": 41,
      "outputs": [
        {
          "output_type": "stream",
          "name": "stdout",
          "text": [
            "13\n",
            "torch.Size([1, 12, 768])\n"
          ]
        }
      ]
    },
    {
      "cell_type": "markdown",
      "source": [
        "We now define a function to take a dataset of tokens, run it through BERT to produce embeddings at all 13 layers, and to produce features for predicting NER labels from token embeddings. This function uses two explicit nested loops, which is not the fastest way to do things in pytorch, but more clearly expresses what is being computed. It takes about a minute to run on colab. (This assignment isn't meant to be a pytorch tutorial, but if you know pytorch, or are learning it, feel free to speed up this code by batching the examples together.)"
      ],
      "metadata": {
        "id": "EAqhsDYbf9gK"
      }
    },
    {
      "cell_type": "code",
      "source": [
        "def compute_layer_representation(data, model, tokenizer):\n",
        "  rep = []\n",
        "  lab = []\n",
        "  for example in data:\n",
        "    with torch.no_grad():\n",
        "      outputs = model(input_ids=example['input_ids'].unsqueeze(0), attention_mask=example['attention_mask'].unsqueeze(0))\n",
        "      tokens = tokenizer.convert_ids_to_tokens(example['input_ids'])\n",
        "      hidden_states = outputs.hidden_states\n",
        "      for i in range(len(example['labels'])):\n",
        "        if example['labels'][i] != -100:\n",
        "          lab.append(int(example['labels'][i]))\n",
        "          rep.append([hidden_states[layer][0][i].numpy() for layer in range(len(hidden_states))])\n",
        "          #rep.append(hidden_states[layer][0][i].numpy())\n",
        "  return [np.array(rep), np.array(lab)]"
      ],
      "metadata": {
        "id": "fALaldOVFKl0"
      },
      "execution_count": 42,
      "outputs": []
    },
    {
      "cell_type": "markdown",
      "source": [
        "We compute embeddings for all layers for the full dataset. Note that the first dimension is now _words_ rather then sentences. This means that we can probe the information that each word's embedding has about named entities (or anything else)."
      ],
      "metadata": {
        "id": "lEcOfqfk89-g"
      }
    },
    {
      "cell_type": "code",
      "source": [
        "X, y = compute_layer_representation(tokenized_sample, model, tokenizer)"
      ],
      "metadata": {
        "id": "2jgY5wxFezYt"
      },
      "execution_count": 43,
      "outputs": []
    },
    {
      "cell_type": "markdown",
      "source": [
        "We can select information about the bottom (word embedding) layer, which gives as a matrix of words by embedding dimensions."
      ],
      "metadata": {
        "id": "3Cyirs1a9WOm"
      }
    },
    {
      "cell_type": "code",
      "source": [
        "X[:,0,:].shape"
      ],
      "metadata": {
        "id": "P82cuK3wfLiK",
        "colab": {
          "base_uri": "https://localhost:8080/",
          "height": 0
        },
        "outputId": "10b1b481-015f-4af8-f412-c92e335bbfd0"
      },
      "execution_count": 44,
      "outputs": [
        {
          "output_type": "execute_result",
          "data": {
            "text/plain": [
              "(12057, 768)"
            ]
          },
          "metadata": {},
          "execution_count": 44
        }
      ]
    },
    {
      "cell_type": "markdown",
      "source": [
        "**TODO:** Your first task is to probe the information that these emedding layers have about named entities. Train one linear model for each of the 13 layers of BERT to predict the label of each word in `y` using the embeddings in `X`. Print the accuracy of this model for each of the 13 layers of BERT. By accuracy, we simply mean the proportion of words that have been assigned the correct tag. (Although NER is often evaluated at the level of the entity, which may span one or more words, we will keep things simple here.)\n",
        "\n",
        "You may use the sklearn code for training logistic regression models that you ran in assignment 2. You may also train these classifiers using pytorch. In any case, perform 10-fold cross validation and return the average accuracy over all ten folds."
      ],
      "metadata": {
        "id": "4D4n9hyl9xF0"
      }
    },
    {
      "cell_type": "code",
      "source": [
        "def train_ner_probes(X, y):\n",
        "\n",
        "    print(\"Training NER probes for each BERT layer...\")\n",
        "    accuracies = []\n",
        "    kf = KFold(n_splits=10, shuffle=True, random_state=42)\n",
        "\n",
        "    for layer_idx in range(13):\n",
        "        print(f\"Processing Layer {layer_idx}...\")\n",
        "        X_layer = X[:, layer_idx, :]\n",
        "\n",
        "        # Perform 10-fold cross-validation\n",
        "        fold_accuracies = []\n",
        "\n",
        "        for fold_num, (train_idx, test_idx) in enumerate(kf.split(X_layer), 1):\n",
        "            X_train, X_test = X_layer[train_idx], X_layer[test_idx]\n",
        "            y_train, y_test = y[train_idx], y[test_idx]\n",
        "\n",
        "            # Train logistic regression\n",
        "            clf = LogisticRegression(max_iter=1000, random_state=42)\n",
        "            clf.fit(X_train, y_train)\n",
        "\n",
        "            accuracy = clf.score(X_test, y_test)\n",
        "            fold_accuracies.append(accuracy)\n",
        "\n",
        "        avg_accuracy = np.mean(fold_accuracies)\n",
        "        accuracies.append(avg_accuracy)\n",
        "        print(f\"  Layer {layer_idx} - Average Accuracy: {avg_accuracy:.4f}\")\n",
        "\n",
        "    return accuracies\n",
        "\n",
        "ner_accuracies = train_ner_probes(X, y)\n",
        "\n",
        "print(\"\\nNER Probe Results Summary:\")\n",
        "print(\"-\" * 40)\n",
        "for layer_idx, acc in enumerate(ner_accuracies):\n",
        "    print(f\"Layer {layer_idx:2d}: {acc:.4f}\")\n",
        "print(\"-\" * 40)\n",
        "best_layer = np.argmax(ner_accuracies)\n",
        "print(f\"Best performing layer: Layer {best_layer} with accuracy {ner_accuracies[best_layer]:.4f}\")\n"
      ],
      "metadata": {
        "id": "mk5o8DbN-EYe",
        "colab": {
          "base_uri": "https://localhost:8080/",
          "height": 0
        },
        "outputId": "fd8403b3-cb48-4bab-9f1a-a507f4017593"
      },
      "execution_count": 45,
      "outputs": [
        {
          "output_type": "stream",
          "name": "stdout",
          "text": [
            "Training NER probes for each BERT layer...\n",
            "Processing Layer 0...\n",
            "  Layer 0 - Average Accuracy: 0.9250\n",
            "Processing Layer 1...\n",
            "  Layer 1 - Average Accuracy: 0.9502\n",
            "Processing Layer 2...\n",
            "  Layer 2 - Average Accuracy: 0.9573\n",
            "Processing Layer 3...\n",
            "  Layer 3 - Average Accuracy: 0.9584\n",
            "Processing Layer 4...\n",
            "  Layer 4 - Average Accuracy: 0.9659\n",
            "Processing Layer 5...\n",
            "  Layer 5 - Average Accuracy: 0.9690\n",
            "Processing Layer 6...\n",
            "  Layer 6 - Average Accuracy: 0.9722\n",
            "Processing Layer 7...\n",
            "  Layer 7 - Average Accuracy: 0.9723\n",
            "Processing Layer 8...\n",
            "  Layer 8 - Average Accuracy: 0.9719\n",
            "Processing Layer 9...\n",
            "  Layer 9 - Average Accuracy: 0.9716\n",
            "Processing Layer 10...\n",
            "  Layer 10 - Average Accuracy: 0.9724\n",
            "Processing Layer 11...\n",
            "  Layer 11 - Average Accuracy: 0.9725\n",
            "Processing Layer 12...\n",
            "  Layer 12 - Average Accuracy: 0.9700\n",
            "\n",
            "NER Probe Results Summary:\n",
            "----------------------------------------\n",
            "Layer  0: 0.9250\n",
            "Layer  1: 0.9502\n",
            "Layer  2: 0.9573\n",
            "Layer  3: 0.9584\n",
            "Layer  4: 0.9659\n",
            "Layer  5: 0.9690\n",
            "Layer  6: 0.9722\n",
            "Layer  7: 0.9723\n",
            "Layer  8: 0.9719\n",
            "Layer  9: 0.9716\n",
            "Layer 10: 0.9724\n",
            "Layer 11: 0.9725\n",
            "Layer 12: 0.9700\n",
            "----------------------------------------\n",
            "Best performing layer: Layer 11 with accuracy 0.9725\n"
          ]
        }
      ]
    },
    {
      "cell_type": "markdown",
      "source": [
        "**TODO:** How good are these accuracy levels? Since the `O` tag is very common, you can do quite well by always predicting `O`. Compute the baseline accuracy, i.e., the accuracy you would get on the sample data if you always predicted `O`."
      ],
      "metadata": {
        "id": "S38RraNheckq"
      }
    },
    {
      "cell_type": "code",
      "source": [
        "def compute_baseline_accuracy(y):\n",
        "\n",
        "    unique, counts = np.unique(y, return_counts=True)\n",
        "\n",
        "    # The O tag is label 0\n",
        "    # Find accuracy of always predicting 0 (O tag)\n",
        "    o_tag_count = np.sum(y == 0)\n",
        "    total_count = len(y)\n",
        "    baseline_accuracy = o_tag_count / total_count\n",
        "\n",
        "    return baseline_accuracy\n",
        "\n",
        "baseline_acc = compute_baseline_accuracy(y)\n",
        "print(f\"Baseline accuracy (always predicting 'O' tag): {baseline_acc:.4f}\")\n",
        "print(f\"This means {baseline_acc*100:.2f}% of words are not part of named entities\")\n"
      ],
      "metadata": {
        "id": "MdqzlBMugAUr",
        "colab": {
          "base_uri": "https://localhost:8080/",
          "height": 0
        },
        "outputId": "8deab387-b6ce-411d-d614-2f0d7487b384"
      },
      "execution_count": 46,
      "outputs": [
        {
          "output_type": "stream",
          "name": "stdout",
          "text": [
            "Baseline accuracy (always predicting 'O' tag): 0.7650\n",
            "This means 76.50% of words are not part of named entities\n"
          ]
        }
      ]
    },
    {
      "cell_type": "markdown",
      "source": [
        "**TODO:** Now try another probing experiment for capitalized words, a simple feature that, in English, is correlated with named entities. For each word in the sample data, create a feature that indicates whether that word's first character is a capital letter. Then train logistic regression models for each layer of BERT to see how well they predict capitalization. Perform 10-fold cross-validation as above. Note any differences you see with the NER probes.\n",
        "\n",
        "In addition, compute the baseline accuracy, i.e., the accuracy of always predicting that a word is not capitalized."
      ],
      "metadata": {
        "id": "gG73Dw8sgFtG"
      }
    },
    {
      "cell_type": "code",
      "source": [
        "\n",
        "def create_capitalization_labels_aligned(tokenized_sample, tokenizer):\n",
        "\n",
        "    cap_labels = []\n",
        "\n",
        "    for example in tokenized_sample:\n",
        "        tokens = tokenizer.convert_ids_to_tokens(example['input_ids'])\n",
        "        ner_labels = example['labels']\n",
        "\n",
        "        current_word_capitalized = False\n",
        "\n",
        "        for i, token in enumerate(tokens):\n",
        "\n",
        "            if ner_labels[i] == -100:\n",
        "\n",
        "                if not token.startswith('##') and token not in ['[CLS]', '[SEP]', '[PAD]']:\n",
        "\n",
        "                    current_word_capitalized = token and token[0].isupper()\n",
        "                continue\n",
        "\n",
        "            if token.startswith('##'):\n",
        "                if current_word_capitalized:\n",
        "                    cap_labels.append(1)\n",
        "                else:\n",
        "                    cap_labels.append(0)\n",
        "            else:\n",
        "                if token and token[0].isupper():\n",
        "                    cap_labels.append(1)\n",
        "                    current_word_capitalized = True\n",
        "                else:\n",
        "                    cap_labels.append(0)\n",
        "                    current_word_capitalized = False\n",
        "\n",
        "    return np.array(cap_labels)\n",
        "\n",
        "def train_capitalization_probes_aligned(X, tokenized_sample, tokenizer):\n",
        "\n",
        "    print(\"Creating capitalization labels (aligned with embeddings)...\")\n",
        "    cap_labels = create_capitalization_labels_aligned(tokenized_sample, tokenizer)\n",
        "\n",
        "    print(f\"Label count: {len(cap_labels)}, Embedding count: {X.shape[0]}\")\n",
        "\n",
        "    if len(cap_labels) != X.shape[0]:\n",
        "        print(f\"WARNING: Still mismatched! Labels: {len(cap_labels)}, Embeddings: {X.shape[0]}\")\n",
        "\n",
        "        min_len = min(len(cap_labels), X.shape[0])\n",
        "        cap_labels = cap_labels[:min_len]\n",
        "        X_subset = X[:min_len]\n",
        "    else:\n",
        "        print(\"Labels and embeddings are properly aligned!\")\n",
        "        X_subset = X\n",
        "\n",
        "    print(\"Training capitalization probes for each BERT layer...\")\n",
        "    accuracies = []\n",
        "    kf = KFold(n_splits=10, shuffle=True, random_state=42)\n",
        "\n",
        "    for layer_idx in range(13):\n",
        "        print(f\"Processing Layer {layer_idx}...\")\n",
        "        X_layer = X_subset[:, layer_idx, :]\n",
        "\n",
        "        fold_accuracies = []\n",
        "\n",
        "        for fold_num, (train_idx, test_idx) in enumerate(kf.split(X_layer), 1):\n",
        "            X_train, X_test = X_layer[train_idx], X_layer[test_idx]\n",
        "            y_train, y_test = cap_labels[train_idx], cap_labels[test_idx]\n",
        "\n",
        "            clf = LogisticRegression(max_iter=1000, random_state=42)\n",
        "            clf.fit(X_train, y_train)\n",
        "\n",
        "            # Compute accuracy\n",
        "            accuracy = clf.score(X_test, y_test)\n",
        "            fold_accuracies.append(accuracy)\n",
        "\n",
        "        # Average accuracy across folds\n",
        "        avg_accuracy = np.mean(fold_accuracies)\n",
        "        accuracies.append(avg_accuracy)\n",
        "        print(f\"  Layer {layer_idx} - Average Accuracy: {avg_accuracy:.4f}\")\n",
        "\n",
        "    return accuracies, cap_labels\n",
        "\n",
        "def compute_cap_baseline(cap_labels):\n",
        "    not_cap_count = np.sum(cap_labels == 0)\n",
        "    total_count = len(cap_labels)\n",
        "    return not_cap_count / total_count\n",
        "\n",
        "cap_accuracies, cap_labels = train_capitalization_probes_aligned(X, tokenized_sample, tokenizer)\n",
        "\n",
        "print(\"\\nCapitalization Probe Results Summary:\")\n",
        "\n",
        "for layer_idx, acc in enumerate(cap_accuracies):\n",
        "    print(f\"Layer {layer_idx:2d}: {acc:.4f}\")\n",
        "\n",
        "best_cap_layer = np.argmax(cap_accuracies)\n",
        "print(f\"Best performing layer: Layer {best_cap_layer} with accuracy {cap_accuracies[best_cap_layer]:.4f}\")\n",
        "\n",
        "# Compute baseline\n",
        "cap_baseline = compute_cap_baseline(cap_labels)\n",
        "print(f\"\\nCapitalization baseline accuracy (always predicting not capitalized): {cap_baseline:.4f}\")\n",
        "print(f\"This means {(1-cap_baseline)*100:.1f}% of tokens are capitalized\")\n",
        "\n",
        "# Performance check\n",
        "if max(cap_accuracies) > cap_baseline:\n",
        "    print(f\"SUCCESS: Models ({max(cap_accuracies):.4f}) beat baseline ({cap_baseline:.4f})\")\n",
        "else:\n",
        "    print(f\"ERROR: Models ({max(cap_accuracies):.4f}) worse than baseline ({cap_baseline:.4f})\")\n",
        "\n",
        "print(\"FINAL COMPARATIVE ANALYSIS\")\n",
        "\n",
        "\n",
        "print(\"\\n1. Task Performance Summary:\")\n",
        "\n",
        "print(f\"NER best accuracy: {max(ner_accuracies):.4f} (Layer {np.argmax(ner_accuracies)})\")\n",
        "print(f\"NER baseline: {baseline_acc:.4f}\")\n",
        "print(f\"NER improvement: {max(ner_accuracies) - baseline_acc:.4f}\")\n",
        "print()\n",
        "print(f\"Cap best accuracy: {max(cap_accuracies):.4f} (Layer {np.argmax(cap_accuracies)})\")\n",
        "print(f\"Cap baseline: {cap_baseline:.4f}\")\n",
        "print(f\"Cap improvement: {max(cap_accuracies) - cap_baseline:.4f}\")\n",
        "\n",
        "print(\"\\n2. Layer Preferences:\")\n",
        "\n",
        "if np.argmax(cap_accuracies) < np.argmax(ner_accuracies):\n",
        "    print(\"EXPECTED PATTERN CONFIRMED:\")\n",
        "    print(f\"Capitalization peaks early (Layer {np.argmax(cap_accuracies)})\")\n",
        "    print(f\"NER peaks in middle/late layers (Layer {np.argmax(ner_accuracies)})\")\n",
        "else:\n",
        "    print(\"! Unexpected pattern detected\")\n",
        "\n",
        "print(\"\\n3. Detailed Layer Comparison:\")\n",
        "print(\"-\" * 40)\n",
        "print(\"Layer | NER Acc | Cap Acc | NER>Cap?\")\n",
        "print(\"-\" * 40)\n",
        "for i in range(13):\n",
        "    ner_acc = ner_accuracies[i]\n",
        "    cap_acc = cap_accuracies[i]\n",
        "    better = \"NER\" if ner_acc > cap_acc else \"CAP\"\n",
        "    marker_ner = \"*\" if i == np.argmax(ner_accuracies) else \" \"\n",
        "    marker_cap = \"*\" if i == np.argmax(cap_accuracies) else \" \"\n",
        "    print(f\"{i:5d} | {ner_acc:.4f}{marker_ner} | {cap_acc:.4f}{marker_cap} | {better}\")\n",
        "print(\"-\" * 40)\n",
        "print(\"* = best layer for that task\")"
      ],
      "metadata": {
        "id": "lpFfCPt_irA0",
        "colab": {
          "base_uri": "https://localhost:8080/",
          "height": 0
        },
        "outputId": "3b9a2f76-aa3c-4dcc-9936-3e7854b45447"
      },
      "execution_count": 48,
      "outputs": [
        {
          "output_type": "stream",
          "name": "stdout",
          "text": [
            "Creating capitalization labels (aligned with embeddings)...\n",
            "Label count: 12057, Embedding count: 12057\n",
            "Labels and embeddings are properly aligned!\n",
            "Training capitalization probes for each BERT layer...\n",
            "Processing Layer 0...\n",
            "  Layer 0 - Average Accuracy: 1.0000\n",
            "Processing Layer 1...\n",
            "  Layer 1 - Average Accuracy: 1.0000\n",
            "Processing Layer 2...\n",
            "  Layer 2 - Average Accuracy: 1.0000\n",
            "Processing Layer 3...\n",
            "  Layer 3 - Average Accuracy: 0.9999\n",
            "Processing Layer 4...\n",
            "  Layer 4 - Average Accuracy: 0.9999\n",
            "Processing Layer 5...\n",
            "  Layer 5 - Average Accuracy: 0.9996\n",
            "Processing Layer 6...\n",
            "  Layer 6 - Average Accuracy: 0.9997\n",
            "Processing Layer 7...\n",
            "  Layer 7 - Average Accuracy: 0.9990\n",
            "Processing Layer 8...\n",
            "  Layer 8 - Average Accuracy: 0.9990\n",
            "Processing Layer 9...\n",
            "  Layer 9 - Average Accuracy: 0.9984\n",
            "Processing Layer 10...\n",
            "  Layer 10 - Average Accuracy: 0.9982\n",
            "Processing Layer 11...\n",
            "  Layer 11 - Average Accuracy: 0.9977\n",
            "Processing Layer 12...\n",
            "  Layer 12 - Average Accuracy: 0.9974\n",
            "\n",
            "Capitalization Probe Results Summary:\n",
            "Layer  0: 1.0000\n",
            "Layer  1: 1.0000\n",
            "Layer  2: 1.0000\n",
            "Layer  3: 0.9999\n",
            "Layer  4: 0.9999\n",
            "Layer  5: 0.9996\n",
            "Layer  6: 0.9997\n",
            "Layer  7: 0.9990\n",
            "Layer  8: 0.9990\n",
            "Layer  9: 0.9984\n",
            "Layer 10: 0.9982\n",
            "Layer 11: 0.9977\n",
            "Layer 12: 0.9974\n",
            "Best performing layer: Layer 0 with accuracy 1.0000\n",
            "\n",
            "Capitalization baseline accuracy (always predicting not capitalized): 0.6985\n",
            "This means 30.1% of tokens are capitalized\n",
            "SUCCESS: Models (1.0000) beat baseline (0.6985)\n",
            "FINAL COMPARATIVE ANALYSIS\n",
            "\n",
            "1. Task Performance Summary:\n",
            "NER best accuracy: 0.9725 (Layer 11)\n",
            "NER baseline: 0.7650\n",
            "NER improvement: 0.2075\n",
            "\n",
            "Cap best accuracy: 1.0000 (Layer 0)\n",
            "Cap baseline: 0.6985\n",
            "Cap improvement: 0.3015\n",
            "\n",
            "2. Layer Preferences:\n",
            "EXPECTED PATTERN CONFIRMED:\n",
            "Capitalization peaks early (Layer 0)\n",
            "NER peaks in middle/late layers (Layer 11)\n",
            "\n",
            "3. Detailed Layer Comparison:\n",
            "----------------------------------------\n",
            "Layer | NER Acc | Cap Acc | NER>Cap?\n",
            "----------------------------------------\n",
            "    0 | 0.9250  | 1.0000* | CAP\n",
            "    1 | 0.9502  | 1.0000  | CAP\n",
            "    2 | 0.9573  | 1.0000  | CAP\n",
            "    3 | 0.9584  | 0.9999  | CAP\n",
            "    4 | 0.9659  | 0.9999  | CAP\n",
            "    5 | 0.9690  | 0.9996  | CAP\n",
            "    6 | 0.9722  | 0.9997  | CAP\n",
            "    7 | 0.9723  | 0.9990  | CAP\n",
            "    8 | 0.9719  | 0.9990  | CAP\n",
            "    9 | 0.9716  | 0.9984  | CAP\n",
            "   10 | 0.9724  | 0.9982  | CAP\n",
            "   11 | 0.9725* | 0.9977  | CAP\n",
            "   12 | 0.9700  | 0.9974  | CAP\n",
            "----------------------------------------\n",
            "* = best layer for that task\n"
          ]
        }
      ]
    }
  ],
  "metadata": {
    "accelerator": "GPU",
    "colab": {
      "gpuType": "T4",
      "provenance": [],
      "include_colab_link": true
    },
    "kernelspec": {
      "display_name": "Python 3",
      "name": "python3"
    },
    "language_info": {
      "name": "python"
    }
  },
  "nbformat": 4,
  "nbformat_minor": 0
}